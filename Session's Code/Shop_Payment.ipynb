{
 "cells": [
  {
   "cell_type": "code",
   "execution_count": 19,
   "metadata": {},
   "outputs": [
    {
     "name": "stdout",
     "output_type": "stream",
     "text": [
      "Welcome to our shop....Please select the items from the following list\n",
      "Select form these dict_keys(['Pens', 'Pencils', 'Refil', 'Sharpner', 'Eraser'])\n",
      "Enter the item Name:Pens\n",
      "Enter Quantity:10\n",
      "Enter the item Name:done\n",
      "Please Pay Bill 100\n"
     ]
    }
   ],
   "source": [
    "items = {'Pens'     : 10,\n",
    "         'Pencils'  : 5,\n",
    "         'Refil'    : 10,\n",
    "         'Sharpner' : 5,\n",
    "         'Eraser'   : 5 }\n",
    "\n",
    "print('Welcome to our shop....Please select the items from the following list')\n",
    "print('Select form these',items.keys())\n",
    "\n",
    "total = 0\n",
    "\n",
    "while True:\n",
    "    item_name = input('Enter the item Name:')\n",
    "    \n",
    "    if item_name == 'done':\n",
    "        print('Please Pay Bill', total)\n",
    "        break\n",
    "    else:\n",
    "        quantity = int(input('Enter Quantity:'))\n",
    "        total = total + items[item_name] * quantity\n",
    "        "
   ]
  }
 ],
 "metadata": {
  "kernelspec": {
   "display_name": "Python 3",
   "language": "python",
   "name": "python3"
  },
  "language_info": {
   "codemirror_mode": {
    "name": "ipython",
    "version": 3
   },
   "file_extension": ".py",
   "mimetype": "text/x-python",
   "name": "python",
   "nbconvert_exporter": "python",
   "pygments_lexer": "ipython3",
   "version": "3.8.5"
  }
 },
 "nbformat": 4,
 "nbformat_minor": 4
}
